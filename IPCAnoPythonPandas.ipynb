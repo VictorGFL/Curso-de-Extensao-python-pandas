{
  "nbformat": 4,
  "nbformat_minor": 0,
  "metadata": {
    "colab": {
      "provenance": [],
      "authorship_tag": "ABX9TyPIy6hyvtmFwAFcHjGT5qdN",
      "include_colab_link": true
    },
    "kernelspec": {
      "name": "python3",
      "display_name": "Python 3"
    },
    "language_info": {
      "name": "python"
    }
  },
  "cells": [
    {
      "cell_type": "markdown",
      "metadata": {
        "id": "view-in-github",
        "colab_type": "text"
      },
      "source": [
        "<a href=\"https://colab.research.google.com/github/VictorGFL/CursodeExtens-opythonpandas/blob/main/IPCAnoPythonPandas.ipynb\" target=\"_parent\"><img src=\"https://colab.research.google.com/assets/colab-badge.svg\" alt=\"Open In Colab\"/></a>"
      ]
    },
    {
      "cell_type": "markdown",
      "source": [
        "    Série histórica do IPCA (Índice de preços no consumidor Amplo)\n",
        "       Tratamento e manipulação de dados com o Python Pandas\n",
        "\n",
        "AUTOR: Victor Gabriel Ferreira Leite\n",
        "\n",
        "DATA: 09/02/2023"
      ],
      "metadata": {
        "id": "cc2uka1X4UQ5"
      }
    },
    {
      "cell_type": "code",
      "execution_count": 56,
      "metadata": {
        "colab": {
          "base_uri": "https://localhost:8080/"
        },
        "id": "esl5cxMA4IT8",
        "outputId": "ee825a24-1758-4e4a-f585-eb45ccf517a0"
      },
      "outputs": [
        {
          "output_type": "stream",
          "name": "stdout",
          "text": [
            "Looking in indexes: https://pypi.org/simple, https://us-python.pkg.dev/colab-wheels/public/simple/\n",
            "Requirement already satisfied: pandas in /usr/local/lib/python3.8/dist-packages (1.3.5)\n",
            "Requirement already satisfied: numpy>=1.17.3 in /usr/local/lib/python3.8/dist-packages (from pandas) (1.21.6)\n",
            "Requirement already satisfied: python-dateutil>=2.7.3 in /usr/local/lib/python3.8/dist-packages (from pandas) (2.8.2)\n",
            "Requirement already satisfied: pytz>=2017.3 in /usr/local/lib/python3.8/dist-packages (from pandas) (2022.7.1)\n",
            "Requirement already satisfied: six>=1.5 in /usr/local/lib/python3.8/dist-packages (from python-dateutil>=2.7.3->pandas) (1.15.0)\n"
          ]
        }
      ],
      "source": [
        "#Instalei a biblioteca Pandas e a base de dados\n",
        "!pip install pandas"
      ]
    },
    {
      "cell_type": "code",
      "source": [
        "#Importei a biblioteca pandas no python e também a base de dados\n",
        "import pandas as pd"
      ],
      "metadata": {
        "id": "AHyRROov56yh"
      },
      "execution_count": 57,
      "outputs": []
    },
    {
      "cell_type": "code",
      "source": [
        "#Defini o dataframe como o arquivo em excel\n",
        "HistIPCA_df = pd.read_excel('STP-20230209182722814.xlsx')\n",
        "\n",
        "#Para mostrar o Dataframe basta:\n",
        "print(HistIPCA_df)"
      ],
      "metadata": {
        "colab": {
          "base_uri": "https://localhost:8080/"
        },
        "id": "pFICInp75-qO",
        "outputId": "95329af2-a386-445c-b958-7c9798c0304d"
      },
      "execution_count": 58,
      "outputs": [
        {
          "output_type": "stream",
          "name": "stdout",
          "text": [
            "          Data  \\\n",
            "0   1980-01-01   \n",
            "1   1980-02-01   \n",
            "2   1980-03-01   \n",
            "3   1980-04-01   \n",
            "4   1980-05-01   \n",
            "..         ...   \n",
            "512 2022-09-01   \n",
            "513 2022-10-01   \n",
            "514 2022-11-01   \n",
            "515 2022-12-01   \n",
            "516 2023-01-01   \n",
            "\n",
            "     433 - Índice nacional de preços ao consumidor-amplo (IPCA) - Var. % mensal  \n",
            "0                                                 6.62                           \n",
            "1                                                 4.62                           \n",
            "2                                                 6.04                           \n",
            "3                                                 5.29                           \n",
            "4                                                 5.70                           \n",
            "..                                                 ...                           \n",
            "512                                              -0.29                           \n",
            "513                                               0.59                           \n",
            "514                                               0.41                           \n",
            "515                                               0.62                           \n",
            "516                                               0.53                           \n",
            "\n",
            "[517 rows x 2 columns]\n"
          ]
        }
      ]
    },
    {
      "cell_type": "code",
      "source": [
        "# Comando para mostrar a quantidade de linhas e colunas\n",
        "display(HistIPCA_df.shape)\n",
        "\n",
        "#Só a quantidade de colunas\n",
        "print(HistIPCA_df.shape[1])\n",
        "\n",
        "#Só a quantidade de linhas\n",
        "print(HistIPCA_df.shape[0])"
      ],
      "metadata": {
        "colab": {
          "base_uri": "https://localhost:8080/",
          "height": 69
        },
        "id": "51y27a7KGrgq",
        "outputId": "d73af546-265f-40b6-cd7e-33afd1bae8f8"
      },
      "execution_count": 59,
      "outputs": [
        {
          "output_type": "display_data",
          "data": {
            "text/plain": [
              "(517, 2)"
            ]
          },
          "metadata": {}
        },
        {
          "output_type": "stream",
          "name": "stdout",
          "text": [
            "2\n",
            "517\n"
          ]
        }
      ]
    },
    {
      "cell_type": "code",
      "source": [
        "#Retorna uma descrição das colunas do data frame\n",
        "print(HistIPCA_df.info())"
      ],
      "metadata": {
        "colab": {
          "base_uri": "https://localhost:8080/"
        },
        "id": "NIQqpvupG1wC",
        "outputId": "ca41656f-1c36-469a-cd66-a830c52f4c01"
      },
      "execution_count": 60,
      "outputs": [
        {
          "output_type": "stream",
          "name": "stdout",
          "text": [
            "<class 'pandas.core.frame.DataFrame'>\n",
            "RangeIndex: 517 entries, 0 to 516\n",
            "Data columns (total 2 columns):\n",
            " #   Column                                                                      Non-Null Count  Dtype         \n",
            "---  ------                                                                      --------------  -----         \n",
            " 0   Data                                                                        517 non-null    datetime64[ns]\n",
            " 1   433 - Índice nacional de preços ao consumidor-amplo (IPCA) - Var. % mensal  517 non-null    float64       \n",
            "dtypes: datetime64[ns](1), float64(1)\n",
            "memory usage: 8.2 KB\n",
            "None\n"
          ]
        }
      ]
    },
    {
      "cell_type": "code",
      "source": [
        "#Renomeando uma coluna para melhor manuseio dos dados\n",
        "df = HistIPCA_df.rename(columns={'433 - Índice nacional de preços ao consumidor-amplo (IPCA) - Var. % mensal': 'Var. % mensal'})"
      ],
      "metadata": {
        "id": "UYx6uDXwHiQr"
      },
      "execution_count": 65,
      "outputs": []
    },
    {
      "cell_type": "code",
      "source": [
        "#Retorna uma descrição das colunas\n",
        "print(df.info())"
      ],
      "metadata": {
        "colab": {
          "base_uri": "https://localhost:8080/"
        },
        "id": "E59OygR8NjE7",
        "outputId": "351dca15-49d3-4fab-d2ae-892a83a8acbd"
      },
      "execution_count": 62,
      "outputs": [
        {
          "output_type": "stream",
          "name": "stdout",
          "text": [
            "<class 'pandas.core.frame.DataFrame'>\n",
            "RangeIndex: 517 entries, 0 to 516\n",
            "Data columns (total 2 columns):\n",
            " #   Column         Non-Null Count  Dtype         \n",
            "---  ------         --------------  -----         \n",
            " 0   Data           517 non-null    datetime64[ns]\n",
            " 1   Var. % mensal  517 non-null    float64       \n",
            "dtypes: datetime64[ns](1), float64(1)\n",
            "memory usage: 8.2 KB\n",
            "None\n"
          ]
        }
      ]
    },
    {
      "cell_type": "code",
      "source": [
        "#Converter datetime64[ns] para data normal\n"
      ],
      "metadata": {
        "id": "ElxWWlHhQP4l"
      },
      "execution_count": null,
      "outputs": []
    },
    {
      "cell_type": "code",
      "source": [
        "#Descobrir o maior valor e o seu mes/ano\n",
        "display(df[['Data', 'Var. % mensal']].max())"
      ],
      "metadata": {
        "colab": {
          "base_uri": "https://localhost:8080/",
          "height": 69
        },
        "id": "XZKKA5HOHDrb",
        "outputId": "0d03abf1-8a49-42c1-9c04-6ac6a734cb1c"
      },
      "execution_count": 73,
      "outputs": [
        {
          "output_type": "display_data",
          "data": {
            "text/plain": [
              "Data             2023-01-01 00:00:00\n",
              "Var. % mensal                  82.39\n",
              "dtype: object"
            ]
          },
          "metadata": {}
        }
      ]
    },
    {
      "cell_type": "code",
      "source": [],
      "metadata": {
        "id": "OmxA61bZPXGO"
      },
      "execution_count": null,
      "outputs": []
    }
  ]
}