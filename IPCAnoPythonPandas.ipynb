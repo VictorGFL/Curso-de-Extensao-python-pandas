{
  "nbformat": 4,
  "nbformat_minor": 0,
  "metadata": {
    "colab": {
      "provenance": [],
      "authorship_tag": "ABX9TyPnH23eh1kYdeRN0vYLRp7q",
      "include_colab_link": true
    },
    "kernelspec": {
      "name": "python3",
      "display_name": "Python 3"
    },
    "language_info": {
      "name": "python"
    }
  },
  "cells": [
    {
      "cell_type": "markdown",
      "metadata": {
        "id": "view-in-github",
        "colab_type": "text"
      },
      "source": [
        "<a href=\"https://colab.research.google.com/github/VictorGFL/CursodeExtens-opythonpandas/blob/main/IPCAnoPythonPandas.ipynb\" target=\"_parent\"><img src=\"https://colab.research.google.com/assets/colab-badge.svg\" alt=\"Open In Colab\"/></a>"
      ]
    },
    {
      "cell_type": "markdown",
      "source": [
        "    Série histórica do IPCA (Índice de preços no consumidor Amplo)\n",
        "       Tratamento e manipulação de dados com o Python Pandas\n",
        "\n",
        "AUTOR: Victor Gabriel Ferreira Leite\n",
        "\n",
        "DATA: 09/02/2023"
      ],
      "metadata": {
        "id": "cc2uka1X4UQ5"
      }
    },
    {
      "cell_type": "code",
      "execution_count": 7,
      "metadata": {
        "colab": {
          "base_uri": "https://localhost:8080/"
        },
        "id": "esl5cxMA4IT8",
        "outputId": "b8fd90d5-9d97-4811-bd7d-9ab7042842d6"
      },
      "outputs": [
        {
          "output_type": "stream",
          "name": "stdout",
          "text": [
            "Looking in indexes: https://pypi.org/simple, https://us-python.pkg.dev/colab-wheels/public/simple/\n",
            "Requirement already satisfied: pandas in /usr/local/lib/python3.8/dist-packages (1.3.5)\n",
            "Requirement already satisfied: python-dateutil>=2.7.3 in /usr/local/lib/python3.8/dist-packages (from pandas) (2.8.2)\n",
            "Requirement already satisfied: numpy>=1.17.3 in /usr/local/lib/python3.8/dist-packages (from pandas) (1.21.6)\n",
            "Requirement already satisfied: pytz>=2017.3 in /usr/local/lib/python3.8/dist-packages (from pandas) (2022.7.1)\n",
            "Requirement already satisfied: six>=1.5 in /usr/local/lib/python3.8/dist-packages (from python-dateutil>=2.7.3->pandas) (1.15.0)\n"
          ]
        }
      ],
      "source": [
        "#Instalei a biblioteca Pandas e a base de dados\n",
        "!pip install pandas"
      ]
    },
    {
      "cell_type": "code",
      "source": [
        "#Importei a biblioteca pandas no python e também a base de dados\n",
        "import pandas as pd"
      ],
      "metadata": {
        "id": "AHyRROov56yh"
      },
      "execution_count": 8,
      "outputs": []
    },
    {
      "cell_type": "code",
      "source": [
        "#Defini o dataframe como o arquivo em excel\n",
        "HistIPCA_df = pd.read_excel('STP-20230209182722814.xlsx')\n",
        "\n",
        "#Para mostrar o Dataframe basta:\n",
        "print(HistIPCA_df)"
      ],
      "metadata": {
        "colab": {
          "base_uri": "https://localhost:8080/"
        },
        "id": "pFICInp75-qO",
        "outputId": "10696f7d-758b-4d88-bf40-e3056174294d"
      },
      "execution_count": 15,
      "outputs": [
        {
          "output_type": "stream",
          "name": "stdout",
          "text": [
            "          Data  \\\n",
            "0   1980-01-01   \n",
            "1   1980-02-01   \n",
            "2   1980-03-01   \n",
            "3   1980-04-01   \n",
            "4   1980-05-01   \n",
            "..         ...   \n",
            "512 2022-09-01   \n",
            "513 2022-10-01   \n",
            "514 2022-11-01   \n",
            "515 2022-12-01   \n",
            "516 2023-01-01   \n",
            "\n",
            "     433 - Índice nacional de preços ao consumidor-amplo (IPCA) - Var. % mensal  \n",
            "0                                                 6.62                           \n",
            "1                                                 4.62                           \n",
            "2                                                 6.04                           \n",
            "3                                                 5.29                           \n",
            "4                                                 5.70                           \n",
            "..                                                 ...                           \n",
            "512                                              -0.29                           \n",
            "513                                               0.59                           \n",
            "514                                               0.41                           \n",
            "515                                               0.62                           \n",
            "516                                               0.53                           \n",
            "\n",
            "[517 rows x 2 columns]\n"
          ]
        }
      ]
    },
    {
      "cell_type": "code",
      "source": [
        "# Comando para mostrar a quantidade de linhas e colunas\n",
        "display(HistIPCA_df.shape)\n",
        "\n",
        "#Só a quantidade de colunas\n",
        "print(HistIPCA_df.shape[1])\n",
        "\n",
        "#Só a quantidade de linhas\n",
        "print(HistIPCA_df.shape[0])"
      ],
      "metadata": {
        "colab": {
          "base_uri": "https://localhost:8080/",
          "height": 69
        },
        "id": "51y27a7KGrgq",
        "outputId": "542e2c76-9985-45d7-f70c-7574fca98b1f"
      },
      "execution_count": 10,
      "outputs": [
        {
          "output_type": "display_data",
          "data": {
            "text/plain": [
              "(517, 2)"
            ]
          },
          "metadata": {}
        },
        {
          "output_type": "stream",
          "name": "stdout",
          "text": [
            "2\n",
            "517\n"
          ]
        }
      ]
    },
    {
      "cell_type": "code",
      "source": [
        "#Retorna uma descrição das colunas do data frame\n",
        "print(HistIPCA_df.info())"
      ],
      "metadata": {
        "colab": {
          "base_uri": "https://localhost:8080/"
        },
        "id": "NIQqpvupG1wC",
        "outputId": "7d837cae-eb4e-4dcf-8e8d-57a75f15b35d"
      },
      "execution_count": 11,
      "outputs": [
        {
          "output_type": "stream",
          "name": "stdout",
          "text": [
            "<class 'pandas.core.frame.DataFrame'>\n",
            "RangeIndex: 517 entries, 0 to 516\n",
            "Data columns (total 2 columns):\n",
            " #   Column                                                                      Non-Null Count  Dtype         \n",
            "---  ------                                                                      --------------  -----         \n",
            " 0   Data                                                                        517 non-null    datetime64[ns]\n",
            " 1   433 - Índice nacional de preços ao consumidor-amplo (IPCA) - Var. % mensal  517 non-null    float64       \n",
            "dtypes: datetime64[ns](1), float64(1)\n",
            "memory usage: 8.2 KB\n",
            "None\n"
          ]
        }
      ]
    },
    {
      "cell_type": "code",
      "source": [
        "#Renomeando uma coluna para melhor manuseio dos dados\n",
        "df = HistIPCA_df.rename(columns={'433 - Índice nacional de preços ao consumidor-amplo (IPCA) - Var. % mensal': 'Var. % mensal'})"
      ],
      "metadata": {
        "id": "UYx6uDXwHiQr"
      },
      "execution_count": 12,
      "outputs": []
    },
    {
      "cell_type": "code",
      "source": [
        "#Preenchimento com condicional\n",
        "import numpy as np\n",
        "df['Status comparado com a meta'] = np.where(df['Var. % mensal'] > 0.5, 'Acima', 'Dentro')"
      ],
      "metadata": {
        "id": "8MTdQQ1kLwmf"
      },
      "execution_count": 20,
      "outputs": []
    },
    {
      "cell_type": "code",
      "source": [
        "#Retorna uma descrição das colunas\n",
        "print(df.info())"
      ],
      "metadata": {
        "colab": {
          "base_uri": "https://localhost:8080/"
        },
        "id": "E59OygR8NjE7",
        "outputId": "fafba345-7cab-42ad-9ea6-8b962b016ea5"
      },
      "execution_count": 23,
      "outputs": [
        {
          "output_type": "stream",
          "name": "stdout",
          "text": [
            "<class 'pandas.core.frame.DataFrame'>\n",
            "RangeIndex: 517 entries, 0 to 516\n",
            "Data columns (total 3 columns):\n",
            " #   Column                       Non-Null Count  Dtype         \n",
            "---  ------                       --------------  -----         \n",
            " 0   Data                         517 non-null    datetime64[ns]\n",
            " 1   Var. % mensal                517 non-null    float64       \n",
            " 2   Status comparado com a meta  517 non-null    object        \n",
            "dtypes: datetime64[ns](1), float64(1), object(1)\n",
            "memory usage: 12.2+ KB\n",
            "None\n"
          ]
        }
      ]
    },
    {
      "cell_type": "code",
      "source": [
        "#Descobrir o maior valor e o seu mes/ano\n",
        "display(df[['Data', 'Var. % mensal']].())"
      ],
      "metadata": {
        "colab": {
          "base_uri": "https://localhost:8080/",
          "height": 69
        },
        "id": "XZKKA5HOHDrb",
        "outputId": "5afd891d-3613-4364-91ca-d7f2caadb182"
      },
      "execution_count": 26,
      "outputs": [
        {
          "output_type": "display_data",
          "data": {
            "text/plain": [
              "Data             2023-01-01 00:00:00\n",
              "Var. % mensal                  82.39\n",
              "dtype: object"
            ]
          },
          "metadata": {}
        }
      ]
    },
    {
      "cell_type": "code",
      "source": [
        "#Descobrir o menor valor e o seu mes/ano\n",
        "display(df[['Data', 'Var. % mensal']].min())"
      ],
      "metadata": {
        "id": "OmxA61bZPXGO",
        "outputId": "058074f9-623e-417f-90f0-0242d95524b6",
        "colab": {
          "base_uri": "https://localhost:8080/",
          "height": 69
        }
      },
      "execution_count": 18,
      "outputs": [
        {
          "output_type": "display_data",
          "data": {
            "text/plain": [
              "Data             1980-01-01 00:00:00\n",
              "Var. % mensal                  -0.68\n",
              "dtype: object"
            ]
          },
          "metadata": {}
        }
      ]
    },
    {
      "cell_type": "code",
      "source": [
        "#Agrupar e contar quantos meses foram acima ou dentro da meta estipulada\n",
        "IPCAdf = df.groupby(by=['Status comparado com a meta']).count()\n",
        "IPCAdf.reset_index(inplace=True)\n",
        "display(IPCAdf)"
      ],
      "metadata": {
        "id": "p9GRIUZXNCDA",
        "outputId": "2d452d9d-d1d0-41e1-db9d-5434041b2a6b",
        "colab": {
          "base_uri": "https://localhost:8080/",
          "height": 112
        }
      },
      "execution_count": 25,
      "outputs": [
        {
          "output_type": "display_data",
          "data": {
            "text/plain": [
              "  Status comparado com a meta  Data  Var. % mensal\n",
              "0                       Acima   337            337\n",
              "1                      Dentro   180            180"
            ],
            "text/html": [
              "\n",
              "  <div id=\"df-90beb6eb-f2e6-4442-96d5-44451ab59d78\">\n",
              "    <div class=\"colab-df-container\">\n",
              "      <div>\n",
              "<style scoped>\n",
              "    .dataframe tbody tr th:only-of-type {\n",
              "        vertical-align: middle;\n",
              "    }\n",
              "\n",
              "    .dataframe tbody tr th {\n",
              "        vertical-align: top;\n",
              "    }\n",
              "\n",
              "    .dataframe thead th {\n",
              "        text-align: right;\n",
              "    }\n",
              "</style>\n",
              "<table border=\"1\" class=\"dataframe\">\n",
              "  <thead>\n",
              "    <tr style=\"text-align: right;\">\n",
              "      <th></th>\n",
              "      <th>Status comparado com a meta</th>\n",
              "      <th>Data</th>\n",
              "      <th>Var. % mensal</th>\n",
              "    </tr>\n",
              "  </thead>\n",
              "  <tbody>\n",
              "    <tr>\n",
              "      <th>0</th>\n",
              "      <td>Acima</td>\n",
              "      <td>337</td>\n",
              "      <td>337</td>\n",
              "    </tr>\n",
              "    <tr>\n",
              "      <th>1</th>\n",
              "      <td>Dentro</td>\n",
              "      <td>180</td>\n",
              "      <td>180</td>\n",
              "    </tr>\n",
              "  </tbody>\n",
              "</table>\n",
              "</div>\n",
              "      <button class=\"colab-df-convert\" onclick=\"convertToInteractive('df-90beb6eb-f2e6-4442-96d5-44451ab59d78')\"\n",
              "              title=\"Convert this dataframe to an interactive table.\"\n",
              "              style=\"display:none;\">\n",
              "        \n",
              "  <svg xmlns=\"http://www.w3.org/2000/svg\" height=\"24px\"viewBox=\"0 0 24 24\"\n",
              "       width=\"24px\">\n",
              "    <path d=\"M0 0h24v24H0V0z\" fill=\"none\"/>\n",
              "    <path d=\"M18.56 5.44l.94 2.06.94-2.06 2.06-.94-2.06-.94-.94-2.06-.94 2.06-2.06.94zm-11 1L8.5 8.5l.94-2.06 2.06-.94-2.06-.94L8.5 2.5l-.94 2.06-2.06.94zm10 10l.94 2.06.94-2.06 2.06-.94-2.06-.94-.94-2.06-.94 2.06-2.06.94z\"/><path d=\"M17.41 7.96l-1.37-1.37c-.4-.4-.92-.59-1.43-.59-.52 0-1.04.2-1.43.59L10.3 9.45l-7.72 7.72c-.78.78-.78 2.05 0 2.83L4 21.41c.39.39.9.59 1.41.59.51 0 1.02-.2 1.41-.59l7.78-7.78 2.81-2.81c.8-.78.8-2.07 0-2.86zM5.41 20L4 18.59l7.72-7.72 1.47 1.35L5.41 20z\"/>\n",
              "  </svg>\n",
              "      </button>\n",
              "      \n",
              "  <style>\n",
              "    .colab-df-container {\n",
              "      display:flex;\n",
              "      flex-wrap:wrap;\n",
              "      gap: 12px;\n",
              "    }\n",
              "\n",
              "    .colab-df-convert {\n",
              "      background-color: #E8F0FE;\n",
              "      border: none;\n",
              "      border-radius: 50%;\n",
              "      cursor: pointer;\n",
              "      display: none;\n",
              "      fill: #1967D2;\n",
              "      height: 32px;\n",
              "      padding: 0 0 0 0;\n",
              "      width: 32px;\n",
              "    }\n",
              "\n",
              "    .colab-df-convert:hover {\n",
              "      background-color: #E2EBFA;\n",
              "      box-shadow: 0px 1px 2px rgba(60, 64, 67, 0.3), 0px 1px 3px 1px rgba(60, 64, 67, 0.15);\n",
              "      fill: #174EA6;\n",
              "    }\n",
              "\n",
              "    [theme=dark] .colab-df-convert {\n",
              "      background-color: #3B4455;\n",
              "      fill: #D2E3FC;\n",
              "    }\n",
              "\n",
              "    [theme=dark] .colab-df-convert:hover {\n",
              "      background-color: #434B5C;\n",
              "      box-shadow: 0px 1px 3px 1px rgba(0, 0, 0, 0.15);\n",
              "      filter: drop-shadow(0px 1px 2px rgba(0, 0, 0, 0.3));\n",
              "      fill: #FFFFFF;\n",
              "    }\n",
              "  </style>\n",
              "\n",
              "      <script>\n",
              "        const buttonEl =\n",
              "          document.querySelector('#df-90beb6eb-f2e6-4442-96d5-44451ab59d78 button.colab-df-convert');\n",
              "        buttonEl.style.display =\n",
              "          google.colab.kernel.accessAllowed ? 'block' : 'none';\n",
              "\n",
              "        async function convertToInteractive(key) {\n",
              "          const element = document.querySelector('#df-90beb6eb-f2e6-4442-96d5-44451ab59d78');\n",
              "          const dataTable =\n",
              "            await google.colab.kernel.invokeFunction('convertToInteractive',\n",
              "                                                     [key], {});\n",
              "          if (!dataTable) return;\n",
              "\n",
              "          const docLinkHtml = 'Like what you see? Visit the ' +\n",
              "            '<a target=\"_blank\" href=https://colab.research.google.com/notebooks/data_table.ipynb>data table notebook</a>'\n",
              "            + ' to learn more about interactive tables.';\n",
              "          element.innerHTML = '';\n",
              "          dataTable['output_type'] = 'display_data';\n",
              "          await google.colab.output.renderOutput(dataTable, element);\n",
              "          const docLink = document.createElement('div');\n",
              "          docLink.innerHTML = docLinkHtml;\n",
              "          element.appendChild(docLink);\n",
              "        }\n",
              "      </script>\n",
              "    </div>\n",
              "  </div>\n",
              "  "
            ]
          },
          "metadata": {}
        }
      ]
    }
  ]
}